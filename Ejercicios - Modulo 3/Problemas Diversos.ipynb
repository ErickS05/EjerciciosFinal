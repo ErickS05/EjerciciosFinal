{
 "cells": [
  {
   "cell_type": "markdown",
   "metadata": {},
   "source": [
    "# PROBLEMAS DIVERSOS"
   ]
  },
  {
   "cell_type": "markdown",
   "metadata": {},
   "source": [
    "<h3>1.</h3>\n",
    "Realizar una función que permita la carga de n alumnos. Por cada alumno se deberá preguntar el nombre completo y permitir el ingreso de 3 notas. Las notas deben estar comprendidas entre 0 y 10. Devolver el listado de alumnos."
   ]
  },
  {
   "cell_type": "code",
   "execution_count": null,
   "metadata": {},
   "outputs": [],
   "source": [
    "def lista(nub):\n",
    "    alumnos=[]\n",
    "    for n in range(nub):\n",
    "        alumno = {}\n",
    "        \n",
    "        alumno['nombre'] = input('Ingrese el nombre:')\n",
    "        alumno['nota 1'] = input('Ingrese nota 1:')\n",
    "        alumno['nota 2'] = input('Ingrese nota 2:')\n",
    "        alumno['nota 3'] = input('Ingrese nota 3:')\n",
    "        \n",
    "        alumnos.append(alumno)\n",
    "\n",
    "    return alumnos\n",
    "\n",
    "nub = int(input('Cuantos alumnos hay en clase: '))\n",
    "listalumnos = lista(nub)"
   ]
  },
  {
   "cell_type": "code",
   "execution_count": null,
   "metadata": {},
   "outputs": [],
   "source": [
    "print(listalumnos)"
   ]
  },
  {
   "cell_type": "markdown",
   "metadata": {},
   "source": [
    "### 2.\n",
    "Definir una función que dado un listado de alumnos evalúe cuántos aprobaron y cuántos desaprobaron, teniendo en cuenta que se aprueba con 4. La nota será el promedio de las 3 notas para cada alumno."
   ]
  },
  {
   "cell_type": "code",
   "execution_count": null,
   "metadata": {},
   "outputs": [],
   "source": [
    "def lista(nub):\n",
    "    alumnos=[]\n",
    "    for n in range(nub):\n",
    "        alumno = {}\n",
    "        \n",
    "        alumno['nombre'] = input('Ingrese el nombre:')\n",
    "        alumno['nota 1'] = int(input('Ingrese nota 1:'))\n",
    "        alumno['nota 2'] = int(input('Ingrese nota 2:'))\n",
    "        alumno['nota 3'] = int(input('Ingrese nota 3:'))\n",
    "        \n",
    "        alumnos.append(alumno)\n",
    "\n",
    "    return alumnos\n",
    "\n",
    "\n",
    "def aprobados(lista):\n",
    "    alumnos = lista\n",
    "    cont = 0\n",
    "    aprobados =0\n",
    "    desaprobados =0\n",
    "    \n",
    "    while cont < nub:\n",
    "        alumno = alumnos[cont]\n",
    "\n",
    "        a = alumno['nota 1']\n",
    "        b = alumno['nota 2']\n",
    "        c = alumno['nota 3']\n",
    "        notas = (a+b+c)/3\n",
    "        \n",
    "        if notas<4:\n",
    "            alumno['estado']='Desaprobado'\n",
    "            desaprobados += 1\n",
    "        else:\n",
    "            alumno['estado']='Aprobado'\n",
    "            aprobados += 1\n",
    "        \n",
    "        if cont == (num_alumnos-1):\n",
    "            print('Alumnos aprobados',aprobados)\n",
    "            print('Alumno desaprobados', desaprobados)\n",
    "    \n",
    "        cont +=1\n",
    "    return alumnos, desaprobados, aprobados\n",
    "    \n",
    "\n",
    "\n",
    "nub = int(input('Cuantos alumnos hay en clase: '))\n",
    "listalumnos = lista(nub)\n",
    "    \n",
    "registro = aprobados(listalumnos)\n"
   ]
  },
  {
   "cell_type": "markdown",
   "metadata": {},
   "source": [
    "### 3.\n",
    "Informar el promedio de nota del curso total."
   ]
  },
  {
   "cell_type": "code",
   "execution_count": null,
   "metadata": {},
   "outputs": [],
   "source": [
    "def lista(nub):\n",
    "    alumnos=[]\n",
    "    for n in range(nub):\n",
    "        alumno = {}\n",
    "        \n",
    "        alumno['nombre'] = input('Ingrese el nombre:')\n",
    "        alumno['nota 1'] = int(input('Ingrese nota 1:'))\n",
    "        alumno['nota 2'] = int(input('Ingrese nota 2:'))\n",
    "        alumno['nota 3'] = int(input('Ingrese nota 3:'))\n",
    "        \n",
    "        alumnos.append(alumno)\n",
    "\n",
    "    return alumnos\n",
    "\n",
    "\n",
    "def resultados(lista):\n",
    "    alumnos = lista\n",
    "    cont = 0\n",
    "    clase = []\n",
    "    while cont < nub:\n",
    "        estado={}\n",
    "        alumno = alumnos[cont]\n",
    "        estado['alumno'] = alumno['nombre']\n",
    "        a = alumno['nota 1']\n",
    "        b = alumno['nota 2']\n",
    "        c = alumno['nota 3']\n",
    "        notas = (a+b+c)/3\n",
    "        estado['promedio']=notas\n",
    "        if notas<4:\n",
    "            estado['estado']='Desaprobado'\n",
    "            \n",
    "        else:\n",
    "            estado['estado']='Aprobado'\n",
    "            \n",
    "        clase.append(estado)\n",
    "        cont +=1\n",
    "    return clase\n",
    "    \n",
    "\n",
    "\n",
    "nub = int(input('Cuantos alumnos hay en clase: '))\n",
    "listalumnos = lista(nub)\n",
    "    \n",
    "registro = resultados(listalumnos)"
   ]
  },
  {
   "cell_type": "code",
   "execution_count": null,
   "metadata": {},
   "outputs": [],
   "source": [
    "print(registro)"
   ]
  },
  {
   "cell_type": "markdown",
   "metadata": {},
   "source": [
    "### 4.\n",
    "Realizar una función que indique quién tuvo el promedio más alto y quién tuvo la nota promedio más baja."
   ]
  },
  {
   "cell_type": "code",
   "execution_count": null,
   "metadata": {},
   "outputs": [],
   "source": [
    "def lista(nub):\n",
    "    alumnos=[]\n",
    "    for n in range(nub):\n",
    "        alumno = {}\n",
    "        \n",
    "        alumno['nombre'] = input('Ingrese el nombre:')\n",
    "        alumno['nota 1'] = int(input('Ingrese nota 1:'))\n",
    "        alumno['nota 2'] = int(input('Ingrese nota 2:'))\n",
    "        alumno['nota 3'] = int(input('Ingrese nota 3:'))\n",
    "        \n",
    "        alumnos.append(alumno)\n",
    "\n",
    "    return alumnos\n",
    "\n",
    "\n",
    "def resultados(lista):\n",
    "    alumnos = lista\n",
    "    cont = 0\n",
    "    mayor =0\n",
    "    menor =1000000\n",
    "    while cont < nub:\n",
    "        \n",
    "        alumno = alumnos[cont]\n",
    "\n",
    "        a = alumno['nota 1']\n",
    "        b = alumno['nota 2']\n",
    "        c = alumno['nota 3']\n",
    "        \n",
    "        nota = (a+b+c)/3\n",
    "        \n",
    "        if mayor < nota:\n",
    "            mayor = nota\n",
    "        elif menor > nota:\n",
    "            menor = nota\n",
    "            \n",
    "        \n",
    "        if cont == (nub-1):\n",
    "            print('Mayor promedio',mayor)\n",
    "            print('Menor promedio', menor)\n",
    "        \n",
    "            \n",
    "        cont +=1\n",
    "    return mayor, menor\n",
    "    \n",
    "\n",
    "\n",
    "nub = int(input('Cuantos alumnos hay en clase: '))\n",
    "listalumnos = lista(nub)\n",
    "    \n",
    "registro = resultados(listalumnos)"
   ]
  },
  {
   "cell_type": "code",
   "execution_count": null,
   "metadata": {},
   "outputs": [],
   "source": []
  },
  {
   "cell_type": "code",
   "execution_count": null,
   "metadata": {},
   "outputs": [],
   "source": []
  },
  {
   "cell_type": "markdown",
   "metadata": {},
   "source": [
    "### 5.\n",
    "Realizar una función que permita buscar un alumno por nombre, siendo el nombre completo o parcial, y devuelva una lista con los n alumnos que concuerden con ese nombre junto con todos sus datos, incluido el promedio de sus notas."
   ]
  },
  {
   "cell_type": "code",
   "execution_count": null,
   "metadata": {},
   "outputs": [],
   "source": [
    "def lista(nub):\n",
    "    alumnos=[]\n",
    "    for n in range(nub):\n",
    "        alumno = {}\n",
    "        \n",
    "        alumno['nombre'] = input('Ingrese el nombre:')\n",
    "        alumno['nota 1'] = int(input('Ingrese nota 1:'))\n",
    "        alumno['nota 2'] = int(input('Ingrese nota 2:'))\n",
    "        alumno['nota 3'] = int(input('Ingrese nota 3:'))\n",
    "        \n",
    "        alumnos.append(alumno)\n",
    "\n",
    "    return alumnos\n",
    "\n",
    "\n",
    "def buscar(lista_alumnos, buscado):\n",
    "    alumnos = lista_alumnos\n",
    "    cont = 0\n",
    "    parecido =[]\n",
    "    while cont < nub:\n",
    "        \n",
    "        alumno = alumnos[cont]\n",
    "        a = alumno['nota 1']\n",
    "        b = alumno['nota 2']\n",
    "        c = alumno['nota 3']\n",
    "        \n",
    "        nota = (a+b+c)/3\n",
    "        alumno['promedio'] = nota\n",
    "        name = alumno['nombre']\n",
    "        \n",
    "        if name == buscado:\n",
    "            parecido.append(alumno)\n",
    "    \n",
    "        \n",
    "            \n",
    "        cont +=1\n",
    "    return parecido\n",
    "    \n",
    "\n",
    "\n",
    "nub = int(input('Cuantos alumnos hay en clase: '))\n",
    "listalumnos = lista(nub)\n",
    "buscado = input('¿A que alumno desea buscar? ')\n",
    "registro = buscar(listalumnos, buscado)\n"
   ]
  },
  {
   "cell_type": "code",
   "execution_count": null,
   "metadata": {},
   "outputs": [],
   "source": [
    "print(registro)"
   ]
  }
 ],
 "metadata": {
  "kernelspec": {
   "display_name": "Python 3",
   "language": "python",
   "name": "python3"
  },
  "language_info": {
   "codemirror_mode": {
    "name": "ipython",
    "version": 3
   },
   "file_extension": ".py",
   "mimetype": "text/x-python",
   "name": "python",
   "nbconvert_exporter": "python",
   "pygments_lexer": "ipython3",
   "version": "3.8.5"
  }
 },
 "nbformat": 4,
 "nbformat_minor": 4
}
